{
 "cells": [
  {
   "cell_type": "markdown",
   "metadata": {},
   "source": [
    "# Attribution for recommender system model"
   ]
  },
  {
   "cell_type": "code",
   "execution_count": 1,
   "metadata": {},
   "outputs": [
    {
     "name": "stderr",
     "output_type": "stream",
     "text": [
      "/opt/miniconda3/envs/rec_env/lib/python3.10/site-packages/tqdm/auto.py:21: TqdmWarning: IProgress not found. Please update jupyter and ipywidgets. See https://ipywidgets.readthedocs.io/en/stable/user_install.html\n",
      "  from .autonotebook import tqdm as notebook_tqdm\n"
     ]
    }
   ],
   "source": [
    "import math\n",
    "import torch\n",
    "import torch.nn as nn\n",
    "import torch.optim as optim\n",
    "import numpy as np\n",
    "import pandas as pd\n",
    "import scipy.sparse as sp\n",
    "from torch.utils.data import DataLoader, Dataset\n",
    "from captum.attr import Saliency, IntegratedGradients\n",
    "import matplotlib.pyplot as plt"
   ]
  },
  {
   "cell_type": "code",
   "execution_count": 2,
   "metadata": {},
   "outputs": [],
   "source": [
    "# download dataset\n",
    "# url = \"https://files.grouplens.org/datasets/movielens/ml-1m.zip\"\n",
    "# !wget -q {url} -O ml-1m.zip\n",
    "# !unzip -q ml-1m.zip"
   ]
  },
  {
   "cell_type": "code",
   "execution_count": 155,
   "metadata": {},
   "outputs": [],
   "source": [
    "data_path = \"ml-1m/ratings.dat\"\n",
    "movies_path = \"ml-1m/movies.dat\"\n",
    "users_path = \"ml-1m/users.dat\"\n",
    "\n",
    "data = pd.read_csv(data_path, sep=\"::\", names=[\"user\", \"item\", \"rating\", \"timestamp\"], engine=\"python\")\n",
    "movies = pd.read_csv(movies_path, sep=\"::\", names=[\"item\", \"title\", \"genres\"], engine=\"python\", encoding=\"ISO-8859-1\")\n",
    "users = pd.read_csv(users_path, sep=\"::\", names=[\"user\", \"gender\", \"age\", \"occupation\", \"zip\"], engine=\"python\")"
   ]
  },
  {
   "cell_type": "code",
   "execution_count": 158,
   "metadata": {},
   "outputs": [],
   "source": [
    "# reindex\n",
    "user_mapping = {old:new for new, old in enumerate(users[\"user\"].unique())}\n",
    "item_mapping = {old:new for new, old in enumerate(movies[\"item\"].unique())}\n",
    "data[\"user\"] = data[\"user\"].map(user_mapping)\n",
    "data[\"item\"] = data[\"item\"].map(item_mapping)\n",
    "movies[\"item\"] = movies[\"item\"].map(item_mapping)\n",
    "users[\"user\"] = users[\"user\"].map(user_mapping)\n",
    "\n",
    "num_users = len(user_mapping)\n",
    "num_items = len(item_mapping)"
   ]
  },
  {
   "cell_type": "code",
   "execution_count": 159,
   "metadata": {},
   "outputs": [
    {
     "data": {
      "text/plain": [
       "array([5., 3., 3., ..., 5., 4., 4.], dtype=float32)"
      ]
     },
     "execution_count": 159,
     "metadata": {},
     "output_type": "execute_result"
    }
   ],
   "source": [
    "data['rating'].values.astype(np.float32)"
   ]
  },
  {
   "cell_type": "code",
   "execution_count": 160,
   "metadata": {},
   "outputs": [
    {
     "name": "stderr",
     "output_type": "stream",
     "text": [
      "/var/folders/5z/8hzvmhln5p36t4tdqc9c52z40000gn/T/ipykernel_88465/1830612108.py:14: RuntimeWarning: divide by zero encountered in power\n",
      "  d_inv_sqrt = np.power(rowsum, -0.5).flatten()\n"
     ]
    }
   ],
   "source": [
    "# define adjacency matrix\n",
    "def build_adj_matrix(data, num_users, num_items):\n",
    "    rows, cols = data['user'].values, data['item'].values\n",
    "    interactions = data['rating'].values.astype(np.float32)\n",
    "    adj_matrix = sp.coo_matrix((interactions, (rows, cols + num_users)), \n",
    "                               shape=(num_users+num_items, num_users+num_items))\n",
    "    adj_matrix = adj_matrix + adj_matrix.T # make the graph undirected\n",
    "    return adj_matrix\n",
    "\n",
    "adj_matrix = build_adj_matrix(data=data, num_users=num_users, num_items=num_items)\n",
    "\n",
    "def normalize_adj(adj):\n",
    "    rowsum = np.array(adj.sum(1))\n",
    "    d_inv_sqrt = np.power(rowsum, -0.5).flatten()\n",
    "    d_inv_sqrt[np.isinf(d_inv_sqrt)] = 0.\n",
    "    d_mat_inv_sqrt = sp.diags(d_inv_sqrt)\n",
    "    return d_mat_inv_sqrt @ adj @ d_mat_inv_sqrt\n",
    "\n",
    "adj_matrix = normalize_adj(adj_matrix)\n",
    "adj_matrix = torch.FloatTensor(adj_matrix.toarray())"
   ]
  },
  {
   "cell_type": "code",
   "execution_count": 161,
   "metadata": {},
   "outputs": [],
   "source": [
    "index_to_occ = {\n",
    "    0: \"other or not specified\",\n",
    "    1: \"academic/educator\",\n",
    "    2: \"artist\",\n",
    "    3: \"clerical/admin\",\n",
    "    4: \"college/grad student\",\n",
    "    5: \"customer service\",\n",
    "    6: \"doctor/health care\",\n",
    "    7: \"executive/managerial\",\n",
    "    8: \"farmer\",\n",
    "    9: \"homemaker\",\n",
    "    10: \"K-12 student\",\n",
    "    11: \"lawyer\",\n",
    "    12: \"programmer\",\n",
    "    13: \"retired\",\n",
    "    14: \"sales/marketing\",\n",
    "    15: \"scientist\",\n",
    "    16: \"self-employed\",\n",
    "    17: \"technician/engineer\",\n",
    "    18: \"tradesman/craftsman\",\n",
    "    19: \"unemployed\",\n",
    "    20: \"writer\"\n",
    "}"
   ]
  },
  {
   "cell_type": "code",
   "execution_count": 162,
   "metadata": {},
   "outputs": [],
   "source": [
    "# Handle user features\n",
    "gender_map = {'M':0, 'F':1}\n",
    "users['gender'] = users['gender'].map(gender_map)\n",
    "# one-hot encode occupation using index_to_occ\n",
    "occupation = pd.get_dummies(users['occupation'].map(index_to_occ))\n",
    "users = pd.concat([users, occupation], axis=1)\n",
    "users.drop(['occupation', 'zip'], axis=1, inplace=True)"
   ]
  },
  {
   "cell_type": "code",
   "execution_count": 165,
   "metadata": {},
   "outputs": [
    {
     "data": {
      "text/plain": [
       "Index(['age', 'K-12 student', 'academic/educator', 'artist', 'clerical/admin',\n",
       "       'college/grad student', 'customer service', 'doctor/health care',\n",
       "       'executive/managerial', 'farmer', 'homemaker', 'lawyer',\n",
       "       'other or not specified', 'programmer', 'retired', 'sales/marketing',\n",
       "       'scientist', 'self-employed', 'technician/engineer',\n",
       "       'tradesman/craftsman', 'unemployed', 'writer'],\n",
       "      dtype='object')"
      ]
     },
     "execution_count": 165,
     "metadata": {},
     "output_type": "execute_result"
    }
   ],
   "source": [
    "users.columns[2:]"
   ]
  },
  {
   "cell_type": "code",
   "execution_count": 9,
   "metadata": {},
   "outputs": [],
   "source": [
    "user_features = torch.FloatTensor(users.iloc[:, 1:].values.astype(np.float32))\n",
    "\n",
    "# Handle item features  \n",
    "genres_set = set('|'.join(movies['genres']).split('|'))\n",
    "genre_mapping = {genre: i for i, genre in enumerate(genres_set)}\n",
    "movies['genres_encoded'] = movies['genres'].apply(lambda x: [genre_mapping[g] for g in x.split('|')])\n",
    "movie_features = torch.zeros((num_items, len(genres_set)))\n",
    "for i, row in movies.iterrows():\n",
    "    for g in row['genres_encoded']:\n",
    "        movie_features[row['item'], g] = 1"
   ]
  },
  {
   "cell_type": "code",
   "execution_count": 11,
   "metadata": {},
   "outputs": [
    {
     "name": "stdout",
     "output_type": "stream",
     "text": [
      "Epoch 1/5, Loss: -6161508.0000\n",
      "Epoch 2/5, Loss: -10024034.0000\n",
      "Epoch 3/5, Loss: -14938030.0000\n",
      "Epoch 4/5, Loss: -20829508.0000\n",
      "Epoch 5/5, Loss: -27625436.0000\n"
     ]
    }
   ],
   "source": [
    "class LightGCN(nn.Module):\n",
    "    def __init__(self, num_users, num_items, embedding_dim, n_layers, user_feat_dim, item_feat_dim):\n",
    "        super(LightGCN, self).__init__()\n",
    "        # define user and item embeddings\n",
    "        self.embedding_dim = embedding_dim\n",
    "        self.user_embedding = nn.Embedding(num_users, embedding_dim)\n",
    "        self.item_embedding = nn.Embedding(num_items, embedding_dim)\n",
    "        # project user and item features to the same space as embeddings\n",
    "        self.user_feat_fc = nn.Linear(user_feat_dim, embedding_dim) \n",
    "        self.item_feat_fc = nn.Linear(item_feat_dim, embedding_dim)\n",
    "        \n",
    "        self.n_layers = n_layers\n",
    "        self._init_weights()\n",
    "\n",
    "    def _init_weights(self):\n",
    "        # manual xavier initialization\n",
    "        a = math.sqrt(6 / (1 + self.embedding_dim))\n",
    "        nn.init.uniform_(self.user_embedding.weight, -a, a)\n",
    "        nn.init.uniform_(self.item_embedding.weight, -a, a)\n",
    "        \n",
    "        nn.init.xavier_uniform_(self.user_feat_fc.weight)\n",
    "        nn.init.xavier_uniform_(self.item_feat_fc.weight)\n",
    "\n",
    "\n",
    "    def forward(self, adj, user_features, item_features):\n",
    "        # standardize user and item features to [0, 1] region\n",
    "        user_features = (user_features - user_features.mean(dim=0)) / (user_features.std(dim=0) + 1e-8)\n",
    "        item_features = (item_features - item_features.mean(dim=0)) / (item_features.std(dim=0) + 1e-8)\n",
    "        \n",
    "        user_feat_embed = self.user_feat_fc(user_features)\n",
    "        item_feat_embed = self.item_feat_fc(item_features)\n",
    "        \n",
    "        user_combined = torch.layer_norm(self.user_embedding.weight + user_feat_embed, \n",
    "                                         [self.embedding_dim])\n",
    "        item_combined = torch.layer_norm(self.item_embedding.weight + item_feat_embed, \n",
    "                                         [self.embedding_dim])\n",
    "        \n",
    "        all_embeddings = torch.cat([user_combined, item_combined], dim=0)\n",
    "        embeddings = [all_embeddings]\n",
    "        \n",
    "        for _ in range(self.n_layers):\n",
    "            all_embeddings = torch.mm(adj, all_embeddings)\n",
    "            embeddings.append(all_embeddings)\n",
    "        \n",
    "        final_embedding = torch.mean(torch.stack(embeddings, dim=0), dim=0)\n",
    "        user_final, item_final = torch.split(final_embedding, [num_users, num_items])\n",
    "        return user_final, item_final\n",
    "\n",
    "model = LightGCN(num_users, num_items, embedding_dim=64, n_layers=3, user_feat_dim=user_features.shape[1], item_feat_dim=len(genres_set))\n",
    "optimizer = optim.Adam(model.parameters(), lr=0.01)\n",
    "criterion = nn.BCEWithLogitsLoss() \n",
    "\n",
    "def train(model, data, adj, user_features, item_features, epochs=5):\n",
    "    \n",
    "    model.train()\n",
    "    for epoch in range(epochs):\n",
    "        user_embed, item_embed = model(adj, user_features, item_features)\n",
    "        loss = 0\n",
    "        for user, item, rating in zip(data['user'], data['item'], data['rating']):\n",
    "            user_vec = user_embed[user]\n",
    "            item_vec = item_embed[item]\n",
    "            score = torch.sum(user_vec * item_vec)\n",
    "            loss += criterion(score, torch.tensor(float(rating)))\n",
    "        \n",
    "        loss.backward()\n",
    "        optimizer.step()\n",
    "        optimizer.zero_grad()\n",
    "        print(f\"Epoch {epoch+1}/{epochs}, Loss: {loss.item():.4f}\")\n",
    "        \n",
    "train(model, data, adj_matrix, user_features, movie_features, epochs=5)\n",
    "torch.save(model.state_dict(), \"lightgcn.pth\")\n",
    "# model.load_state_dict(torch.load(\"lightgcn.pth\"))\n",
    "# model.eval()"
   ]
  },
  {
   "cell_type": "code",
   "execution_count": 105,
   "metadata": {},
   "outputs": [],
   "source": [
    "target_user = 0\n",
    "target_item = 0\n",
    "\n",
    "def predict_target(user_feat_batch, movie_feat_batch, \n",
    "                   target_user, target_item, \n",
    "                   user_features=user_features, \n",
    "                   movie_features=movie_features, \n",
    "                   model=model):\n",
    "    # '''\n",
    "    # Could remove target_user and target_item\n",
    "    # '''\n",
    "    outputs = []\n",
    "    \n",
    "    B = user_feat_batch.shape[0]\n",
    "    \n",
    "    for i in range(B):\n",
    "\n",
    "        cur_user_feat = user_feat_batch[i]      # [user_feat_dim]\n",
    "        cur_movie_feat = movie_feat_batch[i]    # [item_feat_dim]\n",
    "        \n",
    "        user_features_modified = user_features.clone()\n",
    "        movie_features_modified = movie_features.clone()\n",
    "        \n",
    "        # get the current user and movie features\n",
    "        \n",
    "        user_features_modified[target_user] = cur_user_feat\n",
    "        movie_features_modified[target_item] = cur_movie_feat\n",
    "        \n",
    "        # Calculate embeddings and score\n",
    "        user_embed, movie_embed = model(adj_matrix, user_features_modified, movie_features_modified)\n",
    "        score = torch.sum(user_embed[target_user] * movie_embed[target_item])\n",
    "        outputs.append(score)\n",
    "    \n",
    "    return torch.stack(outputs)\n",
    "\n",
    "def wrapped_predict(user_feat, movie_feat, target_user, target_item):\n",
    "    # print(user_feat.shape)\n",
    "    return predict_target(user_feat, movie_feat, target_user, target_item)\n",
    "\n",
    "# target_user_feat = user_features[target_user].unsqueeze(0)\n",
    "# target_movie_feat = movie_features[target_item].unsqueeze(0)\n",
    "\n",
    "# baseline_user_feat = torch.zeros_like(target_user_feat)\n",
    "# baseline_movie_feat = torch.zeros_like(target_movie_feat)\n",
    "\n",
    "# ig = IntegratedGradients(wrapped_predict)\n",
    "# attributions, delta = ig.attribute(\n",
    "#     inputs =  (target_user_feat, target_movie_feat),\n",
    "#     baselines = (baseline_user_feat, baseline_movie_feat),\n",
    "#     return_convergence_delta=True\n",
    "# )\n",
    "\n",
    "# attributions\n",
    "\n",
    "def get_attribution(target_user, target_item, \n",
    "                    user_features=user_features, \n",
    "                    movie_features=movie_features, \n",
    "                    model=model):\n",
    "    target_user_feat = user_features[target_user].unsqueeze(0)\n",
    "    target_movie_feat = movie_features[target_item].unsqueeze(0)\n",
    "    \n",
    "    # print(target_user)\n",
    "    \n",
    "    # target_user_tensor = torch.tensor([target_user])\n",
    "    # target_item_tensor = torch.tensor([target_item])\n",
    "    \n",
    "    # print(target_user_tensor.shape)\n",
    "    \n",
    "    #use average user and movie features as baseline\n",
    "    baseline_user_feat = torch.mean(user_features, dim=0).unsqueeze(0)\n",
    "    baseline_movie_feat = torch.mean(movie_features, dim=0).unsqueeze(0)\n",
    "    \n",
    "    ig = IntegratedGradients(wrapped_predict)\n",
    "    attributions, delta = ig.attribute(\n",
    "        inputs =  (target_user_feat, target_movie_feat),\n",
    "        baselines = (baseline_user_feat, baseline_movie_feat),\n",
    "        additional_forward_args = (target_user, target_item),\n",
    "        return_convergence_delta=True\n",
    "    )\n",
    "    return attributions"
   ]
  },
  {
   "cell_type": "code",
   "execution_count": 122,
   "metadata": {},
   "outputs": [
    {
     "data": {
      "text/plain": [
       "20"
      ]
     },
     "execution_count": 122,
     "metadata": {},
     "output_type": "execute_result"
    }
   ],
   "source": [
    "users.iloc[4, 3:]\n",
    "np.where(users.iloc[4, 3:] == 1)[0][0]"
   ]
  },
  {
   "cell_type": "code",
   "execution_count": 125,
   "metadata": {},
   "outputs": [
    {
     "data": {
      "text/plain": [
       "['gender', 'age', 'writer']"
      ]
     },
     "execution_count": 125,
     "metadata": {},
     "output_type": "execute_result"
    }
   ],
   "source": [
    "['gender', 'age'] + [\"writer\"]"
   ]
  },
  {
   "cell_type": "code",
   "execution_count": null,
   "metadata": {},
   "outputs": [],
   "source": []
  },
  {
   "cell_type": "code",
   "execution_count": 173,
   "metadata": {},
   "outputs": [],
   "source": [
    "index_to_genre = {v: k for k, v in genre_mapping.items()}\n",
    "index_to_occ = users.columns[3:]\n",
    "\n",
    "def plot_attribution(attributions, user_index, top=3):\n",
    "    user_attr, movie_attr = attributions\n",
    "    user_attr = user_attr.detach().numpy().reshape(-1)\n",
    "    movie_attr = movie_attr.detach().numpy().reshape(-1)\n",
    "    user_attr = np.abs(user_attr)\n",
    "    movie_attr = np.abs(movie_attr)\n",
    "    occ_attr = user_attr[-len(index_to_occ):]\n",
    "    \n",
    "    user_occ = users.iloc[user_index, 3:].values\n",
    "    user_occ_index = np.where(user_occ == 1)[0][0]\n",
    "    \n",
    "    # top_occ_indices = np.argsort(occ_attr)[-1:]\n",
    "    # print(top_occ_indices)\n",
    "    # print(occ_attr)\n",
    "    top_occ_values = occ_attr[user_occ_index]\n",
    "    # top_user_values = np.concatenate([user_attr[:-len(index_to_occ)], top_occ_values])\n",
    "    top_occ_labels = index_to_occ[user_occ_index]\n",
    "    print(user_occ_index)\n",
    "    print(top_occ_labels)\n",
    "    top_user_values = np.append(user_attr[:-len(index_to_occ)], top_occ_values)\n",
    "    user_labels = ['gender', 'age'] + [top_occ_labels]\n",
    "    \n",
    "    # print(len(user_labels))\n",
    "    # print(top_user_values.shape)\n",
    "    # # Get top user features\n",
    "    # top_user_indices = np.argsort(user_attr)[-top:]\n",
    "    # top_user_values = user_attr[top_user_indices]\n",
    "    # top_user_labels = [index_to_occ[i] for i in top_user_indices]\n",
    "    \n",
    "    # Get top movie features\n",
    "    \n",
    "    top_movie_indices = np.argsort(movie_attr)[-top:]\n",
    "    top_movie_values = movie_attr[top_movie_indices]\n",
    "    top_movie_labels = [index_to_genre[i] for i in top_movie_indices]\n",
    "    \n",
    "    fig, ax = plt.subplots(1, 2, figsize=(12, 4))\n",
    "    \n",
    "    ax[0].bar(user_labels, top_user_values, color = 'skyblue')\n",
    "    ax[0].set_xlabel(\"User Features\")\n",
    "    ax[0].set_ylabel(\"Attribution\")\n",
    "    ax[0].set_title(\"Attribution of User Features\")\n",
    "    ax[0].grid(axis='y', linestyle='--', alpha=0.7)\n",
    "    ax[1].bar(top_movie_labels, top_movie_values, color = 'salmon')\n",
    "    ax[1].set_xlabel(\"Movie Features\")\n",
    "    ax[1].set_ylabel(\"Attribution\")\n",
    "    ax[1].set_title(\"Top 3 Important Movie Genre Features\")\n",
    "    ax[1].grid(axis='y', linestyle='--', alpha=0.7)\n",
    "    plt.show()"
   ]
  },
  {
   "cell_type": "markdown",
   "metadata": {},
   "source": [
    "The result could be highly confounded."
   ]
  },
  {
   "cell_type": "code",
   "execution_count": null,
   "metadata": {},
   "outputs": [
    {
     "data": {
      "text/plain": [
       "{0: 'Adventure',\n",
       " 1: 'Documentary',\n",
       " 2: 'Musical',\n",
       " 3: 'Comedy',\n",
       " 4: 'Thriller',\n",
       " 5: 'Mystery',\n",
       " 6: 'Western',\n",
       " 7: 'Horror',\n",
       " 8: 'Film-Noir',\n",
       " 9: \"Children's\",\n",
       " 10: 'Drama',\n",
       " 11: 'Action',\n",
       " 12: 'Animation',\n",
       " 13: 'Sci-Fi',\n",
       " 14: 'Crime',\n",
       " 15: 'Romance',\n",
       " 16: 'Fantasy',\n",
       " 17: 'War'}"
      ]
     },
     "execution_count": 24,
     "metadata": {},
     "output_type": "execute_result"
    }
   ],
   "source": [
    "# map index back to discriptions\n",
    "index_to_occ = {\n",
    "    0: \"other or not specified\",\n",
    "    1: \"academic/educator\",\n",
    "    2: \"artist\",\n",
    "    3: \"clerical/admin\",\n",
    "    4: \"college/grad student\",\n",
    "    5: \"customer service\",\n",
    "    6: \"doctor/health care\",\n",
    "    7: \"executive/managerial\",\n",
    "    8: \"farmer\",\n",
    "    9: \"homemaker\",\n",
    "    10: \"K-12 student\",\n",
    "    11: \"lawyer\",\n",
    "    12: \"programmer\",\n",
    "    13: \"retired\",\n",
    "    14: \"sales/marketing\",\n",
    "    15: \"scientist\",\n",
    "    16: \"self-employed\",\n",
    "    17: \"technician/engineer\",\n",
    "    18: \"tradesman/craftsman\",\n",
    "    19: \"unemployed\",\n",
    "    20: \"writer\"\n",
    "}\n",
    "\n",
    "index_to_genre = {v: k for k, v in genre_mapping.items()}\n",
    "index_to_genre"
   ]
  },
  {
   "cell_type": "code",
   "execution_count": 174,
   "metadata": {},
   "outputs": [
    {
     "name": "stdout",
     "output_type": "stream",
     "text": [
      "Top 1 Recommendation\n",
      "Title: Toy Story 2 (1999)\n",
      "Genres: Animation|Children's|Comedy\n",
      "Score: 4.0938\n",
      "Moview index: 3045\n",
      "\n",
      "\n",
      "Top 2 Recommendation\n",
      "Title: Toy Story (1995)\n",
      "Genres: Animation|Children's|Comedy\n",
      "Score: 4.0151\n",
      "Moview index: 0\n",
      "\n",
      "\n",
      "Top 3 Recommendation\n",
      "Title: Bug's Life, A (1998)\n",
      "Genres: Animation|Children's|Comedy\n",
      "Score: 3.8222\n",
      "Moview index: 2286\n",
      "\n",
      "\n",
      "Top 4 Recommendation\n",
      "Title: South Park: Bigger, Longer and Uncut (1999)\n",
      "Genres: Animation|Comedy\n",
      "Score: 3.5999\n",
      "Moview index: 2631\n",
      "\n",
      "\n",
      "Top 5 Recommendation\n",
      "Title: Election (1999)\n",
      "Genres: Comedy\n",
      "Score: 3.4522\n",
      "Moview index: 2530\n",
      "\n",
      "\n"
     ]
    }
   ],
   "source": [
    "def find_top_5(user_index):\n",
    "    user_embed, item_embed = model(adj_matrix, user_features, movie_features)\n",
    "    scores = torch.matmul(user_embed[user_index], item_embed.T)\n",
    "    top5_scores, top5_indices = torch.topk(scores, 5)\n",
    "    top5_indices = top5_indices.numpy()\n",
    "    top5_scores = top5_scores.detach().numpy()\n",
    "    \n",
    "    for i, (score, idx) in enumerate(zip(top5_scores, top5_indices)):\n",
    "        movie = movies.iloc[idx]\n",
    "        print\n",
    "        print(f\"Top {i+1} Recommendation\")\n",
    "        print(f\"Title: {movie['title']}\")\n",
    "        print(f\"Genres: {movie['genres']}\")\n",
    "        print(f\"Score: {score:.4f}\")\n",
    "        print(f\"Moview index: {idx}\")\n",
    "        print(\"\\n\")\n",
    "       \n",
    "    return top5_indices \n",
    "        \n",
    "user_index = 0\n",
    "top5_indices = find_top_5(user_index)"
   ]
  },
  {
   "cell_type": "code",
   "execution_count": null,
   "metadata": {},
   "outputs": [],
   "source": [
    "item_index = top5_indices[0]\n",
    "attributions = get_attribution(target_user=user_index, target_item=item_index)"
   ]
  },
  {
   "cell_type": "code",
   "execution_count": 175,
   "metadata": {},
   "outputs": [
    {
     "name": "stdout",
     "output_type": "stream",
     "text": [
      "0\n",
      "K-12 student\n"
     ]
    },
    {
     "data": {
      "image/png": "[encoded data removed]",
      "text/plain": [
       "<Figure size 1200x400 with 2 Axes>"
      ]
     },
     "metadata": {},
     "output_type": "display_data"
    }
   ],
   "source": [
    "plot_attribution(attributions, user_index, top=3)"
   ]
  },
  {
   "cell_type": "code",
   "execution_count": 179,
   "metadata": {},
   "outputs": [
    {
     "data": {
      "text/plain": [
       "K-12 student              False\n",
       "academic/educator         False\n",
       "artist                    False\n",
       "clerical/admin            False\n",
       "college/grad student      False\n",
       "customer service          False\n",
       "doctor/health care        False\n",
       "executive/managerial       True\n",
       "farmer                    False\n",
       "homemaker                 False\n",
       "lawyer                    False\n",
       "other or not specified    False\n",
       "programmer                False\n",
       "retired                   False\n",
       "sales/marketing           False\n",
       "scientist                 False\n",
       "self-employed             False\n",
       "technician/engineer       False\n",
       "tradesman/craftsman       False\n",
       "unemployed                False\n",
       "writer                    False\n",
       "Name: 3, dtype: object"
      ]
     },
     "execution_count": 179,
     "metadata": {},
     "output_type": "execute_result"
    }
   ],
   "source": [
    "users.iloc[3, 3:]"
   ]
  },
  {
   "cell_type": "code",
   "execution_count": 180,
   "metadata": {},
   "outputs": [
    {
     "name": "stdout",
     "output_type": "stream",
     "text": [
      "Top 1 Recommendation\n",
      "Title: American Beauty (1999)\n",
      "Genres: Comedy|Drama\n",
      "Score: 20.1400\n",
      "Moview index: 2789\n",
      "\n",
      "\n",
      "Top 2 Recommendation\n",
      "Title: Terminator 2: Judgment Day (1991)\n",
      "Genres: Action|Sci-Fi|Thriller\n",
      "Score: 17.6009\n",
      "Moview index: 585\n",
      "\n",
      "\n",
      "Top 3 Recommendation\n",
      "Title: Matrix, The (1999)\n",
      "Genres: Action|Sci-Fi|Thriller\n",
      "Score: 17.0791\n",
      "Moview index: 2502\n",
      "\n",
      "\n",
      "Top 4 Recommendation\n",
      "Title: Raiders of the Lost Ark (1981)\n",
      "Genres: Action|Adventure\n",
      "Score: 16.8533\n",
      "Moview index: 1180\n",
      "\n",
      "\n",
      "Top 5 Recommendation\n",
      "Title: Star Wars: Episode IV - A New Hope (1977)\n",
      "Genres: Action|Adventure|Fantasy|Sci-Fi\n",
      "Score: 16.5983\n",
      "Moview index: 257\n",
      "\n",
      "\n"
     ]
    }
   ],
   "source": [
    "user_index = 3 # A middle-aged executive/managerial\n",
    "top5_indices = find_top_5(user_index)"
   ]
  },
  {
   "cell_type": "code",
   "execution_count": 182,
   "metadata": {},
   "outputs": [
    {
     "name": "stdout",
     "output_type": "stream",
     "text": [
      "7\n",
      "executive/managerial\n"
     ]
    },
    {
     "data": {
      "image/png": "[encoded data removed]",
      "text/plain": [
       "<Figure size 1200x400 with 2 Axes>"
      ]
     },
     "metadata": {},
     "output_type": "display_data"
    }
   ],
   "source": [
    "item_index = top5_indices[0]\n",
    "attributions = get_attribution(target_user=user_index, target_item=item_index)\n",
    "plot_attribution(attributions, user_index=user_index)"
   ]
  },
  {
   "cell_type": "code",
   "execution_count": 199,
   "metadata": {},
   "outputs": [],
   "source": [
    "target_user = 4 # a young writer\n",
    "\n",
    "# find movies with genres 'Drama' and 'Fantasy'\n",
    "selected_movies = movies[movies['genres'].str.contains('Drama') & movies['genres'].str.contains('Fantasy')]\n",
    "selected_movies\n",
    "selected_movie_index = selected_movies['item'].values[:3]\n",
    "selected_movie_index\n",
    "\n",
    "attributions_per_movie = {}\n",
    "for movie in selected_movie_index:\n",
    "    attributions = get_attribution(target_user=target_user, target_item=movie)\n",
    "    attributions_per_movie[movie] = {\n",
    "        \"user_attr\": attributions[0].detach().numpy(),\n",
    "        \"movie_attr\": attributions[1].detach().numpy()\n",
    "    }"
   ]
  },
  {
   "cell_type": "code",
   "execution_count": 202,
   "metadata": {},
   "outputs": [
    {
     "data": {
      "text/html": [
       "<div>\n",
       "<style scoped>\n",
       "    .dataframe tbody tr th:only-of-type {\n",
       "        vertical-align: middle;\n",
       "    }\n",
       "\n",
       "    .dataframe tbody tr th {\n",
       "        vertical-align: top;\n",
       "    }\n",
       "\n",
       "    .dataframe thead th {\n",
       "        text-align: right;\n",
       "    }\n",
       "</style>\n",
       "<table border=\"1\" class=\"dataframe\">\n",
       "  <thead>\n",
       "    <tr style=\"text-align: right;\">\n",
       "      <th></th>\n",
       "      <th>item</th>\n",
       "      <th>title</th>\n",
       "      <th>genres</th>\n",
       "    </tr>\n",
       "  </thead>\n",
       "  <tbody>\n",
       "    <tr>\n",
       "      <th>244</th>\n",
       "      <td>244</td>\n",
       "      <td>Heavenly Creatures (1994)</td>\n",
       "      <td>Drama|Fantasy|Romance|Thriller</td>\n",
       "    </tr>\n",
       "    <tr>\n",
       "      <th>873</th>\n",
       "      <td>873</td>\n",
       "      <td>Bogus (1996)</td>\n",
       "      <td>Children's|Drama|Fantasy</td>\n",
       "    </tr>\n",
       "    <tr>\n",
       "      <th>1081</th>\n",
       "      <td>1081</td>\n",
       "      <td>E.T. the Extra-Terrestrial (1982)</td>\n",
       "      <td>Children's|Drama|Fantasy|Sci-Fi</td>\n",
       "    </tr>\n",
       "  </tbody>\n",
       "</table>\n",
       "</div>"
      ],
      "text/plain": [
       "      item                              title                           genres\n",
       "244    244          Heavenly Creatures (1994)   Drama|Fantasy|Romance|Thriller\n",
       "873    873                       Bogus (1996)         Children's|Drama|Fantasy\n",
       "1081  1081  E.T. the Extra-Terrestrial (1982)  Children's|Drama|Fantasy|Sci-Fi"
      ]
     },
     "execution_count": 202,
     "metadata": {},
     "output_type": "execute_result"
    }
   ],
   "source": [
    "movies.iloc[selected_movie_index]"
   ]
  },
  {
   "cell_type": "code",
   "execution_count": 214,
   "metadata": {},
   "outputs": [
    {
     "data": {
      "image/png": "[encoded data removed]",
      "text/plain": [
       "<Figure size 1200x800 with 1 Axes>"
      ]
     },
     "metadata": {},
     "output_type": "display_data"
    }
   ],
   "source": [
    "fig, ax = plt.subplots(figsize=(12, 8))\n",
    "\n",
    "for i, movie in enumerate(selected_movie_index):\n",
    "    movie_attr = attributions_per_movie[movie]['movie_attr'].flatten()\n",
    "    movie_attr = np.abs(movie_attr)\n",
    "    top_genre_indices = np.argsort(movie_attr)[-3:]\n",
    "    top_genre_values = movie_attr[top_genre_indices]\n",
    "    top_genre_labels = [index_to_genre[idx] for idx in top_genre_indices]\n",
    "    ax.barh([f\"{i+1} - {label}\" for label in top_genre_labels], \n",
    "        top_genre_values, label=f\"{movies[movies['item'] == movie]['title'].values[0]}\", alpha=0.7)\n",
    "\n",
    "ax.set_xlabel(\"Attribution\", fontsize=12)\n",
    "ax.set_ylabel(\"Movie Genres\", fontsize=12)\n",
    "ax.set_title(\"Attribution of Movie Genres for Selected Movies\", fontsize=14)\n",
    "ax.grid(axis='y', linestyle='--', alpha=0.7)\n",
    "ax.tick_params(axis='x', labelsize=10, rotation=90)\n",
    "ax.tick_params(axis='y', labelsize=10)\n",
    "ax.legend()\n",
    "\n",
    "plt.tight_layout(pad=2.0)\n",
    "plt.show()\n"
   ]
  },
  {
   "cell_type": "code",
   "execution_count": null,
   "metadata": {},
   "outputs": [
    {
     "data": {
      "text/plain": [
       "{'Action',\n",
       " 'Adventure',\n",
       " 'Animation',\n",
       " \"Children's\",\n",
       " 'Comedy',\n",
       " 'Crime',\n",
       " 'Documentary',\n",
       " 'Drama',\n",
       " 'Fantasy',\n",
       " 'Film-Noir',\n",
       " 'Horror',\n",
       " 'Musical',\n",
       " 'Mystery',\n",
       " 'Romance',\n",
       " 'Sci-Fi',\n",
       " 'Thriller',\n",
       " 'War',\n",
       " 'Western'}"
      ]
     },
     "execution_count": 190,
     "metadata": {},
     "output_type": "execute_result"
    }
   ],
   "source": [
    "attributions_per_movie = {}\n",
    "\n",
    "for movie in selected_movies:\n",
    "    attributions = get_attribution(target_user, movie)\n",
    "    attributions_per_movie[movie] = {\n",
    "        \"user_attr\": attributions[0].detach().numpy(),\n",
    "        \"movie_attr\": attributions[1].detach().numpy()\n",
    "    }\n"
   ]
  },
  {
   "cell_type": "code",
   "execution_count": null,
   "metadata": {},
   "outputs": [],
   "source": []
  }
 ],
 "metadata": {
  "kernelspec": {
   "display_name": "rec_env",
   "language": "python",
   "name": "python3"
  },
  "language_info": {
   "codemirror_mode": {
    "name": "ipython",
    "version": 3
   },
   "file_extension": ".py",
   "mimetype": "text/x-python",
   "name": "python",
   "nbconvert_exporter": "python",
   "pygments_lexer": "ipython3",
   "version": "3.10.16"
  }
 },
 "nbformat": 4,
 "nbformat_minor": 2
}
