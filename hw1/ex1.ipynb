{
 "cells": [
  {
   "cell_type": "markdown",
   "metadata": {},
   "source": [
    "# Attribution for recommender system model"
   ]
  },
  {
   "cell_type": "code",
   "execution_count": 3,
   "metadata": {},
   "outputs": [],
   "source": [
    "\n",
    "import torch\n",
    "import torch.nn as nn\n",
    "import torch.optim as optim\n",
    "import numpy as np\n",
    "import pandas as pd\n",
    "import scipy.sparse as sp\n",
    "from torch.utils.data import DataLoader, Dataset\n",
    "from captum.attr import Saliency, IntegratedGradients\n",
    "import matplotlib.pyplot as plt"
   ]
  },
  {
   "cell_type": "code",
   "execution_count": 4,
   "metadata": {},
   "outputs": [],
   "source": [
    "# download dataset\n",
    "# url = \"https://files.grouplens.org/datasets/movielens/ml-1m.zip\"\n",
    "# !wget -q {url} -O ml-1m.zip\n",
    "# !unzip -q ml-1m.zip"
   ]
  },
  {
   "cell_type": "code",
   "execution_count": 5,
   "metadata": {},
   "outputs": [],
   "source": [
    "data_path = \"ml-1m/ratings.dat\"\n",
    "movies_path = \"ml-1m/movies.dat\"\n",
    "users_path = \"ml-1m/users.dat\"\n",
    "\n",
    "data = pd.read_csv(data_path, sep=\"::\", names=[\"user\", \"item\", \"rating\", \"timestamp\"], engine=\"python\")\n",
    "movies = pd.read_csv(movies_path, sep=\"::\", names=[\"item\", \"title\", \"genres\"], engine=\"python\", encoding=\"ISO-8859-1\")\n",
    "users = pd.read_csv(users_path, sep=\"::\", names=[\"user\", \"gender\", \"age\", \"occupation\", \"zip\"], engine=\"python\")"
   ]
  },
  {
   "cell_type": "code",
   "execution_count": 6,
   "metadata": {},
   "outputs": [],
   "source": [
    "# reindex\n",
    "user_mapping = {old:new for new, old in enumerate(users[\"user\"].unique())}\n",
    "item_mapping = {old:new for new, old in enumerate(movies[\"item\"].unique())}\n",
    "data[\"user\"] = data[\"user\"].map(user_mapping)\n",
    "data[\"item\"] = data[\"item\"].map(item_mapping)\n",
    "movies[\"item\"] = movies[\"item\"].map(item_mapping)\n",
    "users[\"user\"] = users[\"user\"].map(user_mapping)\n",
    "\n",
    "num_users = len(user_mapping)\n",
    "num_items = len(item_mapping)"
   ]
  },
  {
   "cell_type": "code",
   "execution_count": 7,
   "metadata": {},
   "outputs": [
    {
     "data": {
      "text/plain": [
       "array([5., 3., 3., ..., 5., 4., 4.], dtype=float32)"
      ]
     },
     "execution_count": 7,
     "metadata": {},
     "output_type": "execute_result"
    }
   ],
   "source": [
    "data['rating'].values.astype(np.float32)"
   ]
  },
  {
   "cell_type": "code",
   "execution_count": 8,
   "metadata": {},
   "outputs": [
    {
     "name": "stderr",
     "output_type": "stream",
     "text": [
      "/var/folders/5z/8hzvmhln5p36t4tdqc9c52z40000gn/T/ipykernel_82713/1830612108.py:14: RuntimeWarning: divide by zero encountered in power\n",
      "  d_inv_sqrt = np.power(rowsum, -0.5).flatten()\n"
     ]
    }
   ],
   "source": [
    "# define adjacency matrix\n",
    "def build_adj_matrix(data, num_users, num_items):\n",
    "    rows, cols = data['user'].values, data['item'].values\n",
    "    interactions = data['rating'].values.astype(np.float32)\n",
    "    adj_matrix = sp.coo_matrix((interactions, (rows, cols + num_users)), \n",
    "                               shape=(num_users+num_items, num_users+num_items))\n",
    "    adj_matrix = adj_matrix + adj_matrix.T # make the graph undirected\n",
    "    return adj_matrix\n",
    "\n",
    "adj_matrix = build_adj_matrix(data=data, num_users=num_users, num_items=num_items)\n",
    "\n",
    "def normalize_adj(adj):\n",
    "    rowsum = np.array(adj.sum(1))\n",
    "    d_inv_sqrt = np.power(rowsum, -0.5).flatten()\n",
    "    d_inv_sqrt[np.isinf(d_inv_sqrt)] = 0.\n",
    "    d_mat_inv_sqrt = sp.diags(d_inv_sqrt)\n",
    "    return d_mat_inv_sqrt @ adj @ d_mat_inv_sqrt\n",
    "\n",
    "adj_matrix = normalize_adj(adj_matrix)\n",
    "adj_matrix = torch.FloatTensor(adj_matrix.toarray())"
   ]
  },
  {
   "cell_type": "code",
   "execution_count": 9,
   "metadata": {},
   "outputs": [],
   "source": [
    "# Handle user features\n",
    "gender_map = {'M':0, 'F':1}\n",
    "users['gender'] = users['gender'].map(gender_map)\n",
    "user_features = torch.FloatTensor(users[['gender', 'age', 'occupation']].values)\n",
    "\n",
    "# Handle item features  \n",
    "genres_set = set('|'.join(movies['genres']).split('|'))\n",
    "genre_mapping = {genre: i for i, genre in enumerate(genres_set)}\n",
    "movies['genres_encoded'] = movies['genres'].apply(lambda x: [genre_mapping[g] for g in x.split('|')])\n",
    "movie_features = torch.zeros((num_items, len(genres_set)))\n",
    "for i, row in movies.iterrows():\n",
    "    for g in row['genres_encoded']:\n",
    "        movie_features[row['item'], g] = 1"
   ]
  },
  {
   "cell_type": "code",
   "execution_count": 16,
   "metadata": {},
   "outputs": [
    {
     "data": {
      "text/plain": [
       "LightGCN(\n",
       "  (user_embedding): Embedding(6040, 64)\n",
       "  (item_embedding): Embedding(3883, 64)\n",
       "  (user_feat_fc): Linear(in_features=3, out_features=64, bias=True)\n",
       "  (item_feat_fc): Linear(in_features=18, out_features=64, bias=True)\n",
       ")"
      ]
     },
     "execution_count": 16,
     "metadata": {},
     "output_type": "execute_result"
    }
   ],
   "source": [
    "class LightGCN(nn.Module):\n",
    "    def __init__(self, num_users, num_items, embedding_dim, n_layers, user_feat_dim, item_feat_dim):\n",
    "        super(LightGCN, self).__init__()\n",
    "        # define user and item embeddings\n",
    "        self.user_embedding = nn.Embedding(num_users, embedding_dim)\n",
    "        self.item_embedding = nn.Embedding(num_items, embedding_dim)\n",
    "        # project user and item features to embedding space\n",
    "        self.user_feat_fc = nn.Linear(user_feat_dim, embedding_dim) \n",
    "        self.item_feat_fc = nn.Linear(item_feat_dim, embedding_dim)\n",
    "        self.n_layers = n_layers\n",
    "        self._init_weights()\n",
    "\n",
    "    def _init_weights(self):\n",
    "        nn.init.xavier_uniform_(self.user_embedding.weight)\n",
    "        nn.init.xavier_uniform_(self.item_embedding.weight)\n",
    "\n",
    "    def forward(self, adj, user_features, item_features):\n",
    "        user_feat_embed = self.user_feat_fc(user_features)\n",
    "        item_feat_embed = self.item_feat_fc(item_features)\n",
    "        all_embeddings = torch.cat([self.user_embedding.weight + user_feat_embed, self.item_embedding.weight + item_feat_embed], dim=0)\n",
    "        embeddings = [all_embeddings]\n",
    "        \n",
    "        for _ in range(self.n_layers):\n",
    "            all_embeddings = torch.mm(adj, all_embeddings)\n",
    "            embeddings.append(all_embeddings)\n",
    "        \n",
    "        final_embedding = torch.mean(torch.stack(embeddings, dim=0), dim=0)\n",
    "        user_final, item_final = torch.split(final_embedding, [num_users, num_items])\n",
    "        return user_final, item_final\n",
    "\n",
    "model = LightGCN(num_users, num_items, embedding_dim=64, n_layers=3, user_feat_dim=3, item_feat_dim=len(genres_set))\n",
    "optimizer = optim.Adam(model.parameters(), lr=0.01)\n",
    "criterion = nn.BCEWithLogitsLoss() \n",
    "\n",
    "def train(model, data, adj, user_features, item_features, epochs=5):\n",
    "    \n",
    "    model.train()\n",
    "    for epoch in range(epochs):\n",
    "        user_embed, item_embed = model(adj, user_features, item_features)\n",
    "        loss = 0\n",
    "        for user, item, rating in zip(data['user'], data['item'], data['rating']):\n",
    "            user_vec = user_embed[user]\n",
    "            item_vec = item_embed[item]\n",
    "            score = torch.sum(user_vec * item_vec)\n",
    "            loss += criterion(score, torch.tensor(float(rating)))\n",
    "        \n",
    "        loss.backward()\n",
    "        optimizer.step()\n",
    "        optimizer.zero_grad()\n",
    "        print(f\"Epoch {epoch+1}/{epochs}, Loss: {loss.item():.4f}\")\n",
    "        \n",
    "# train(model, data, adj_matrix, user_features, movie_features, epochs=5)\n",
    "# torch.save(model.state_dict(), \"lightgcn.pth\")\n",
    "model.load_state_dict(torch.load(\"lightgcn.pth\"))\n",
    "model.eval()"
   ]
  },
  {
   "cell_type": "code",
   "execution_count": 17,
   "metadata": {},
   "outputs": [],
   "source": [
    "target_user = 0\n",
    "target_item = 0\n",
    "\n",
    "def predict_target(user_feat_batch, movie_feat_batch, \n",
    "                   target_user, target_item, \n",
    "                   user_features=user_features, \n",
    "                   movie_features=movie_features, \n",
    "                   model=model):\n",
    "    outputs = []\n",
    "    B = user_feat_batch.shape[0]\n",
    "    for i in range(B):\n",
    "        # 取出第 i 个样本的特征，形状为 [user_feat_dim] 和 [item_feat_dim]\n",
    "        cur_user_feat = user_feat_batch[i]      # [user_feat_dim]\n",
    "        cur_movie_feat = movie_feat_batch[i]    # [item_feat_dim]\n",
    "        \n",
    "        user_features_modified = user_features.clone()\n",
    "        movie_features_modified = movie_features.clone()\n",
    "        \n",
    "        # get the current user and movie features\n",
    "        user_features_modified[target_user] = cur_user_feat\n",
    "        movie_features_modified[target_item] = cur_movie_feat\n",
    "        \n",
    "        # Calculate embeddings and score\n",
    "        user_embed, movie_embed = model(adj_matrix, user_features_modified, movie_features_modified)\n",
    "        score = torch.sum(user_embed[target_user] * movie_embed[target_item])\n",
    "        outputs.append(score)\n",
    "    \n",
    "    return torch.stack(outputs)\n",
    "\n",
    "def wrapped_predict(user_feat, movie_feat, additional_forward_args=None):\n",
    "    # print(user_feat.shape)\n",
    "    return predict_target(user_feat, movie_feat, target_user, target_item)\n",
    "\n",
    "# target_user_feat = user_features[target_user].unsqueeze(0)\n",
    "# target_movie_feat = movie_features[target_item].unsqueeze(0)\n",
    "\n",
    "# baseline_user_feat = torch.zeros_like(target_user_feat)\n",
    "# baseline_movie_feat = torch.zeros_like(target_movie_feat)\n",
    "\n",
    "# ig = IntegratedGradients(wrapped_predict)\n",
    "# attributions, delta = ig.attribute(\n",
    "#     inputs =  (target_user_feat, target_movie_feat),\n",
    "#     baselines = (baseline_user_feat, baseline_movie_feat),\n",
    "#     return_convergence_delta=True\n",
    "# )\n",
    "\n",
    "# attributions\n",
    "\n",
    "def get_attribution(target_user, target_item, \n",
    "                    user_features=user_features, \n",
    "                    movie_features=movie_features, \n",
    "                    model=model):\n",
    "    target_user_feat = user_features[target_user].unsqueeze(0)\n",
    "    target_movie_feat = movie_features[target_item].unsqueeze(0)\n",
    "    baseline_user_feat = torch.zeros_like(target_user_feat)\n",
    "    baseline_movie_feat = torch.zeros_like(target_movie_feat)\n",
    "    ig = IntegratedGradients(wrapped_predict)\n",
    "    attributions, delta = ig.attribute(\n",
    "        inputs =  (target_user_feat, target_movie_feat),\n",
    "        baselines = (baseline_user_feat, baseline_movie_feat),\n",
    "        return_convergence_delta=True\n",
    "    )\n",
    "    return attributions"
   ]
  },
  {
   "cell_type": "code",
   "execution_count": null,
   "metadata": {},
   "outputs": [],
   "source": [
    "def plot_attribution(user_attr, movie_attr, top=3):\n",
    "    user_feature_names = ['gender', 'age', 'occupation']\n",
    "    fig, axes = plt.subplots(1, 2, figsize=(12, 4))\n",
    "    \n",
    "    axes[0].bar(user_feature_names, user_attr[0], color='skyblue')\n",
    "    axes[0].set_xlabel(\"User Feature\")\n",
    "    axes[0].set_ylabel(\"Attribution Value\")\n",
    "    axes[0].set_title(\"Attribution of User Features\")\n",
    "    axes[0].grid(axis=\"y\", linestyle=\"--\", alpha=0.7)\n",
    "    \n",
    "    index_to_genre = {v: k for k, v in genre_mapping.items()}\n",
    "    num_movie_features = movie_attr.shape[1]\n",
    "    movie_feature_names = [index_to_genre[i] for i in range(num_movie_features)]\n",
    "\n",
    "    abs_movie_attr = np.abs(movie_attr[0])\n",
    "    top_idx = np.argsort(abs_movie_attr)[-top:][::-1]\n",
    "    top_values = movie_attr[0][top_idx]\n",
    "    top_labels = [movie_feature_names[i] for i in top_idx]\n",
    "\n",
    "    axes[1].bar(top_labels, top_values, color='salmon')\n",
    "    axes[1].set_xlabel(\"Movie Genre Feature\")\n",
    "    axes[1].set_ylabel(\"Attribution Value\")\n",
    "    axes[1].set_title(\"Top 3 Important Movie Genre Features\")\n",
    "    axes[1].grid(axis=\"y\", linestyle=\"--\", alpha=0.7)\n",
    "    \n",
    "    plt.tight_layout()\n",
    "    plt.show()"
   ]
  },
  {
   "cell_type": "code",
   "execution_count": null,
   "metadata": {},
   "outputs": [],
   "source": [
    "attributions = get_attribution(target_user=0, target_item=0)\n",
    "\n",
    "user_attr = attributions[0].detach().numpy()\n",
    "movie_attr = attributions[1].detach().numpy()\n",
    "\n",
    "plot_attribution(user_attr, movie_attr)\n",
    "\n"
   ]
  },
  {
   "cell_type": "markdown",
   "metadata": {},
   "source": [
    "The result could be highly confounded."
   ]
  },
  {
   "cell_type": "code",
   "execution_count": 62,
   "metadata": {},
   "outputs": [
    {
     "data": {
      "image/png": "[encoded data removed]",
      "text/plain": [
       "<Figure size 1200x400 with 2 Axes>"
      ]
     },
     "metadata": {},
     "output_type": "display_data"
    }
   ],
   "source": [
    "plot_attribution(attributions[0].detach().numpy(), attributions[1].detach().numpy())"
   ]
  },
  {
   "cell_type": "code",
   "execution_count": null,
   "metadata": {},
   "outputs": [
    {
     "data": {
      "text/plain": [
       "{0: 'Adventure',\n",
       " 1: 'Documentary',\n",
       " 2: 'Musical',\n",
       " 3: 'Comedy',\n",
       " 4: 'Thriller',\n",
       " 5: 'Mystery',\n",
       " 6: 'Western',\n",
       " 7: 'Horror',\n",
       " 8: 'Film-Noir',\n",
       " 9: \"Children's\",\n",
       " 10: 'Drama',\n",
       " 11: 'Action',\n",
       " 12: 'Animation',\n",
       " 13: 'Sci-Fi',\n",
       " 14: 'Crime',\n",
       " 15: 'Romance',\n",
       " 16: 'Fantasy',\n",
       " 17: 'War'}"
      ]
     },
     "execution_count": 24,
     "metadata": {},
     "output_type": "execute_result"
    }
   ],
   "source": [
    "# map index back to discriptions\n",
    "index_to_occ = {\n",
    "    0: \"other or not specified\",\n",
    "    1: \"academic/educator\",\n",
    "    2: \"artist\",\n",
    "    3: \"clerical/admin\",\n",
    "    4: \"college/grad student\",\n",
    "    5: \"customer service\",\n",
    "    6: \"doctor/health care\",\n",
    "    7: \"executive/managerial\",\n",
    "    8: \"farmer\",\n",
    "    9: \"homemaker\",\n",
    "    10: \"K-12 student\",\n",
    "    11: \"lawyer\",\n",
    "    12: \"programmer\",\n",
    "    13: \"retired\",\n",
    "    14: \"sales/marketing\",\n",
    "    15: \"scientist\",\n",
    "    16: \"self-employed\",\n",
    "    17: \"technician/engineer\",\n",
    "    18: \"tradesman/craftsman\",\n",
    "    19: \"unemployed\",\n",
    "    20: \"writer\"\n",
    "}\n",
    "\n",
    "index_to_genre = {v: k for k, v in genre_mapping.items()}\n",
    "index_to_genre"
   ]
  },
  {
   "cell_type": "code",
   "execution_count": 30,
   "metadata": {},
   "outputs": [
    {
     "data": {
      "text/html": [
       "<div>\n",
       "<style scoped>\n",
       "    .dataframe tbody tr th:only-of-type {\n",
       "        vertical-align: middle;\n",
       "    }\n",
       "\n",
       "    .dataframe tbody tr th {\n",
       "        vertical-align: top;\n",
       "    }\n",
       "\n",
       "    .dataframe thead th {\n",
       "        text-align: right;\n",
       "    }\n",
       "</style>\n",
       "<table border=\"1\" class=\"dataframe\">\n",
       "  <thead>\n",
       "    <tr style=\"text-align: right;\">\n",
       "      <th></th>\n",
       "      <th>user</th>\n",
       "      <th>gender</th>\n",
       "      <th>age</th>\n",
       "      <th>occupation</th>\n",
       "      <th>zip</th>\n",
       "    </tr>\n",
       "  </thead>\n",
       "  <tbody>\n",
       "    <tr>\n",
       "      <th>0</th>\n",
       "      <td>0</td>\n",
       "      <td>1</td>\n",
       "      <td>1</td>\n",
       "      <td>10</td>\n",
       "      <td>48067</td>\n",
       "    </tr>\n",
       "    <tr>\n",
       "      <th>18</th>\n",
       "      <td>18</td>\n",
       "      <td>0</td>\n",
       "      <td>1</td>\n",
       "      <td>10</td>\n",
       "      <td>48073</td>\n",
       "    </tr>\n",
       "    <tr>\n",
       "      <th>50</th>\n",
       "      <td>50</td>\n",
       "      <td>1</td>\n",
       "      <td>1</td>\n",
       "      <td>10</td>\n",
       "      <td>10562</td>\n",
       "    </tr>\n",
       "    <tr>\n",
       "      <th>74</th>\n",
       "      <td>74</td>\n",
       "      <td>1</td>\n",
       "      <td>1</td>\n",
       "      <td>10</td>\n",
       "      <td>01748</td>\n",
       "    </tr>\n",
       "    <tr>\n",
       "      <th>85</th>\n",
       "      <td>85</td>\n",
       "      <td>1</td>\n",
       "      <td>1</td>\n",
       "      <td>10</td>\n",
       "      <td>54467</td>\n",
       "    </tr>\n",
       "    <tr>\n",
       "      <th>...</th>\n",
       "      <td>...</td>\n",
       "      <td>...</td>\n",
       "      <td>...</td>\n",
       "      <td>...</td>\n",
       "      <td>...</td>\n",
       "    </tr>\n",
       "    <tr>\n",
       "      <th>5843</th>\n",
       "      <td>5843</td>\n",
       "      <td>1</td>\n",
       "      <td>1</td>\n",
       "      <td>10</td>\n",
       "      <td>02131</td>\n",
       "    </tr>\n",
       "    <tr>\n",
       "      <th>5952</th>\n",
       "      <td>5952</td>\n",
       "      <td>0</td>\n",
       "      <td>1</td>\n",
       "      <td>10</td>\n",
       "      <td>21030</td>\n",
       "    </tr>\n",
       "    <tr>\n",
       "      <th>5972</th>\n",
       "      <td>5972</td>\n",
       "      <td>0</td>\n",
       "      <td>1</td>\n",
       "      <td>10</td>\n",
       "      <td>54701</td>\n",
       "    </tr>\n",
       "    <tr>\n",
       "      <th>5988</th>\n",
       "      <td>5988</td>\n",
       "      <td>1</td>\n",
       "      <td>1</td>\n",
       "      <td>10</td>\n",
       "      <td>74114</td>\n",
       "    </tr>\n",
       "    <tr>\n",
       "      <th>6005</th>\n",
       "      <td>6005</td>\n",
       "      <td>1</td>\n",
       "      <td>1</td>\n",
       "      <td>0</td>\n",
       "      <td>01036</td>\n",
       "    </tr>\n",
       "  </tbody>\n",
       "</table>\n",
       "<p>222 rows × 5 columns</p>\n",
       "</div>"
      ],
      "text/plain": [
       "      user  gender  age  occupation    zip\n",
       "0        0       1    1          10  48067\n",
       "18      18       0    1          10  48073\n",
       "50      50       1    1          10  10562\n",
       "74      74       1    1          10  01748\n",
       "85      85       1    1          10  54467\n",
       "...    ...     ...  ...         ...    ...\n",
       "5843  5843       1    1          10  02131\n",
       "5952  5952       0    1          10  21030\n",
       "5972  5972       0    1          10  54701\n",
       "5988  5988       1    1          10  74114\n",
       "6005  6005       1    1           0  01036\n",
       "\n",
       "[222 rows x 5 columns]"
      ]
     },
     "execution_count": 30,
     "metadata": {},
     "output_type": "execute_result"
    }
   ],
   "source": [
    "users[users['age']==1]"
   ]
  },
  {
   "cell_type": "code",
   "execution_count": 39,
   "metadata": {},
   "outputs": [
    {
     "name": "stdout",
     "output_type": "stream",
     "text": [
      "Top 1 Recommendation\n",
      "Title: American Beauty (1999)\n",
      "Genres: Comedy|Drama\n",
      "Score: 4690.6572\n",
      "Moview index: 2789\n",
      "\n",
      "\n",
      "Top 2 Recommendation\n",
      "Title: Star Wars: Episode IV - A New Hope (1977)\n",
      "Genres: Action|Adventure|Fantasy|Sci-Fi\n",
      "Score: 4197.0098\n",
      "Moview index: 257\n",
      "\n",
      "\n",
      "Top 3 Recommendation\n",
      "Title: Star Wars: Episode V - The Empire Strikes Back (1980)\n",
      "Genres: Action|Adventure|Drama|Sci-Fi|War\n",
      "Score: 3998.6536\n",
      "Moview index: 1178\n",
      "\n",
      "\n",
      "Top 4 Recommendation\n",
      "Title: Saving Private Ryan (1998)\n",
      "Genres: Action|Drama|War\n",
      "Score: 3911.5510\n",
      "Moview index: 1959\n",
      "\n",
      "\n",
      "Top 5 Recommendation\n",
      "Title: Star Wars: Episode VI - Return of the Jedi (1983)\n",
      "Genres: Action|Adventure|Romance|Sci-Fi|War\n",
      "Score: 3900.9126\n",
      "Moview index: 1192\n",
      "\n",
      "\n"
     ]
    }
   ],
   "source": [
    "# Predict the socre of user 0 to all the movies and find the top 5\n",
    "user_index = 0\n",
    "user_embed, item_embed = model(adj_matrix, user_features, movie_features)\n",
    "scores = torch.matmul(user_embed[user_index], item_embed.T)\n",
    "top5_scores, top5_indices = torch.topk(scores, 5)\n",
    "top5_indices = top5_indices.numpy()\n",
    "top5_scores = top5_scores.detach().numpy()\n",
    "\n",
    "#visualize the top 5 movies\n",
    "for i, (score, idx) in enumerate(zip(top5_scores, top5_indices)):\n",
    "    movie = movies.iloc[idx]\n",
    "    print\n",
    "    print(f\"Top {i+1} Recommendation\")\n",
    "    print(f\"Title: {movie['title']}\")\n",
    "    print(f\"Genres: {movie['genres']}\")\n",
    "    print(f\"Score: {score:.4f}\")\n",
    "    print(f\"Moview index: {idx}\")\n",
    "    print(\"\\n\")"
   ]
  },
  {
   "cell_type": "code",
   "execution_count": 40,
   "metadata": {},
   "outputs": [
    {
     "data": {
      "image/png": "[encoded data removed]",
      "text/plain": [
       "<Figure size 1200x400 with 2 Axes>"
      ]
     },
     "metadata": {},
     "output_type": "display_data"
    }
   ],
   "source": [
    "item_index = top5_indices[1]\n",
    "attributions = get_attribution(target_user=user_index, target_item=item_index)\n",
    "plot_attribution(attributions[0].detach().numpy(), attributions[1].detach().numpy())"
   ]
  }
 ],
 "metadata": {
  "kernelspec": {
   "display_name": "rec_env",
   "language": "python",
   "name": "python3"
  },
  "language_info": {
   "codemirror_mode": {
    "name": "ipython",
    "version": 3
   },
   "file_extension": ".py",
   "mimetype": "text/x-python",
   "name": "python",
   "nbconvert_exporter": "python",
   "pygments_lexer": "ipython3",
   "version": "3.10.16"
  }
 },
 "nbformat": 4,
 "nbformat_minor": 2
}
