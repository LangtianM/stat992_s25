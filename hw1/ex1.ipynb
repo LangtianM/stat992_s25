{
 "cells": [
  {
   "cell_type": "markdown",
   "metadata": {},
   "source": [
    "# Attribution for recommender system model"
   ]
  },
  {
   "cell_type": "code",
   "execution_count": 49,
   "metadata": {},
   "outputs": [],
   "source": [
    "\n",
    "import torch\n",
    "import torch.nn as nn\n",
    "import torch.optim as optim\n",
    "import numpy as np\n",
    "import pandas as pd\n",
    "import scipy.sparse as sp\n",
    "from torch.utils.data import DataLoader, Dataset\n",
    "from captum.attr import Saliency, IntegratedGradients\n",
    "import matplotlib.pyplot as plt"
   ]
  },
  {
   "cell_type": "code",
   "execution_count": 2,
   "metadata": {},
   "outputs": [],
   "source": [
    "# download dataset\n",
    "# url = \"https://files.grouplens.org/datasets/movielens/ml-1m.zip\"\n",
    "# !wget -q {url} -O ml-1m.zip\n",
    "# !unzip -q ml-1m.zip"
   ]
  },
  {
   "cell_type": "code",
   "execution_count": 3,
   "metadata": {},
   "outputs": [],
   "source": [
    "data_path = \"ml-1m/ratings.dat\"\n",
    "movies_path = \"ml-1m/movies.dat\"\n",
    "users_path = \"ml-1m/users.dat\"\n",
    "\n",
    "data = pd.read_csv(data_path, sep=\"::\", names=[\"user\", \"item\", \"rating\", \"timestamp\"], engine=\"python\")\n",
    "movies = pd.read_csv(movies_path, sep=\"::\", names=[\"item\", \"title\", \"genres\"], engine=\"python\", encoding=\"ISO-8859-1\")\n",
    "users = pd.read_csv(users_path, sep=\"::\", names=[\"user\", \"gender\", \"age\", \"occupation\", \"zip\"], engine=\"python\")"
   ]
  },
  {
   "cell_type": "code",
   "execution_count": 4,
   "metadata": {},
   "outputs": [],
   "source": [
    "# reindex\n",
    "user_mapping = {old:new for new, old in enumerate(users[\"user\"].unique())}\n",
    "item_mapping = {old:new for new, old in enumerate(movies[\"item\"].unique())}\n",
    "data[\"user\"] = data[\"user\"].map(user_mapping)\n",
    "data[\"item\"] = data[\"item\"].map(item_mapping)\n",
    "movies[\"item\"] = movies[\"item\"].map(item_mapping)\n",
    "users[\"user\"] = users[\"user\"].map(user_mapping)\n",
    "\n",
    "num_users = len(user_mapping)\n",
    "num_items = len(item_mapping)"
   ]
  },
  {
   "cell_type": "code",
   "execution_count": 5,
   "metadata": {},
   "outputs": [
    {
     "data": {
      "text/plain": [
       "array([5., 3., 3., ..., 5., 4., 4.], dtype=float32)"
      ]
     },
     "execution_count": 5,
     "metadata": {},
     "output_type": "execute_result"
    }
   ],
   "source": [
    "data['rating'].values.astype(np.float32)"
   ]
  },
  {
   "cell_type": "code",
   "execution_count": 6,
   "metadata": {},
   "outputs": [
    {
     "name": "stderr",
     "output_type": "stream",
     "text": [
      "/var/folders/5z/8hzvmhln5p36t4tdqc9c52z40000gn/T/ipykernel_44037/1830612108.py:14: RuntimeWarning: divide by zero encountered in power\n",
      "  d_inv_sqrt = np.power(rowsum, -0.5).flatten()\n"
     ]
    }
   ],
   "source": [
    "# define adjacency matrix\n",
    "def build_adj_matrix(data, num_users, num_items):\n",
    "    rows, cols = data['user'].values, data['item'].values\n",
    "    interactions = data['rating'].values.astype(np.float32)\n",
    "    adj_matrix = sp.coo_matrix((interactions, (rows, cols + num_users)), \n",
    "                               shape=(num_users+num_items, num_users+num_items))\n",
    "    adj_matrix = adj_matrix + adj_matrix.T # make the graph undirected\n",
    "    return adj_matrix\n",
    "\n",
    "adj_matrix = build_adj_matrix(data=data, num_users=num_users, num_items=num_items)\n",
    "\n",
    "def normalize_adj(adj):\n",
    "    rowsum = np.array(adj.sum(1))\n",
    "    d_inv_sqrt = np.power(rowsum, -0.5).flatten()\n",
    "    d_inv_sqrt[np.isinf(d_inv_sqrt)] = 0.\n",
    "    d_mat_inv_sqrt = sp.diags(d_inv_sqrt)\n",
    "    return d_mat_inv_sqrt @ adj @ d_mat_inv_sqrt\n",
    "\n",
    "adj_matrix = normalize_adj(adj_matrix)\n",
    "adj_matrix = torch.FloatTensor(adj_matrix.toarray())"
   ]
  },
  {
   "cell_type": "code",
   "execution_count": 7,
   "metadata": {},
   "outputs": [],
   "source": [
    "# Handle user features\n",
    "gender_map = {'M':0, 'F':1}\n",
    "users['gender'] = users['gender'].map(gender_map)\n",
    "user_features = torch.FloatTensor(users[['gender', 'age', 'occupation']].values)\n",
    "\n",
    "# Handle item features  \n",
    "genres_set = set('|'.join(movies['genres']).split('|'))\n",
    "genre_mapping = {genre: i for i, genre in enumerate(genres_set)}\n",
    "movies['genres_encoded'] = movies['genres'].apply(lambda x: [genre_mapping[g] for g in x.split('|')])\n",
    "movie_features = torch.zeros((num_items, len(genres_set)))\n",
    "for i, row in movies.iterrows():\n",
    "    for g in row['genres_encoded']:\n",
    "        movie_features[row['item'], g] = 1"
   ]
  },
  {
   "cell_type": "code",
   "execution_count": 8,
   "metadata": {},
   "outputs": [
    {
     "name": "stdout",
     "output_type": "stream",
     "text": [
      "Epoch 1/5, Loss: -9426617344.0000\n",
      "Epoch 2/5, Loss: -10101760000.0000\n",
      "Epoch 3/5, Loss: -10810675200.0000\n",
      "Epoch 4/5, Loss: -11554276352.0000\n",
      "Epoch 5/5, Loss: -12331766784.0000\n"
     ]
    }
   ],
   "source": [
    "class LightGCN(nn.Module):\n",
    "    def __init__(self, num_users, num_items, embedding_dim, n_layers, user_feat_dim, item_feat_dim):\n",
    "        super(LightGCN, self).__init__()\n",
    "        # define user and item embeddings\n",
    "        self.user_embedding = nn.Embedding(num_users, embedding_dim)\n",
    "        self.item_embedding = nn.Embedding(num_items, embedding_dim)\n",
    "        # project user and item features to embedding space\n",
    "        self.user_feat_fc = nn.Linear(user_feat_dim, embedding_dim) \n",
    "        self.item_feat_fc = nn.Linear(item_feat_dim, embedding_dim)\n",
    "        self.n_layers = n_layers\n",
    "        self._init_weights()\n",
    "\n",
    "    def _init_weights(self):\n",
    "        nn.init.xavier_uniform_(self.user_embedding.weight)\n",
    "        nn.init.xavier_uniform_(self.item_embedding.weight)\n",
    "\n",
    "    def forward(self, adj, user_features, item_features):\n",
    "        user_feat_embed = self.user_feat_fc(user_features)\n",
    "        item_feat_embed = self.item_feat_fc(item_features)\n",
    "        all_embeddings = torch.cat([self.user_embedding.weight + user_feat_embed, self.item_embedding.weight + item_feat_embed], dim=0)\n",
    "        embeddings = [all_embeddings]\n",
    "        \n",
    "        for _ in range(self.n_layers):\n",
    "            all_embeddings = torch.mm(adj, all_embeddings)\n",
    "            embeddings.append(all_embeddings)\n",
    "        \n",
    "        final_embedding = torch.mean(torch.stack(embeddings, dim=0), dim=0)\n",
    "        user_final, item_final = torch.split(final_embedding, [num_users, num_items])\n",
    "        return user_final, item_final\n",
    "\n",
    "model = LightGCN(num_users, num_items, embedding_dim=64, n_layers=3, user_feat_dim=3, item_feat_dim=len(genres_set))\n",
    "optimizer = optim.Adam(model.parameters(), lr=0.01)\n",
    "criterion = nn.BCEWithLogitsLoss() \n",
    "\n",
    "def train(model, data, adj, user_features, item_features, epochs=5):\n",
    "    \n",
    "    model.train()\n",
    "    for epoch in range(epochs):\n",
    "        user_embed, item_embed = model(adj, user_features, item_features)\n",
    "        loss = 0\n",
    "        for user, item, rating in zip(data['user'], data['item'], data['rating']):\n",
    "            user_vec = user_embed[user]\n",
    "            item_vec = item_embed[item]\n",
    "            score = torch.sum(user_vec * item_vec)\n",
    "            loss += criterion(score, torch.tensor(float(rating)))\n",
    "        \n",
    "        loss.backward()\n",
    "        optimizer.step()\n",
    "        optimizer.zero_grad()\n",
    "        print(f\"Epoch {epoch+1}/{epochs}, Loss: {loss.item():.4f}\")\n",
    "        \n",
    "train(model, data, adj_matrix, user_features, movie_features, epochs=5)"
   ]
  },
  {
   "cell_type": "code",
   "execution_count": 14,
   "metadata": {},
   "outputs": [],
   "source": [
    "torch.save(model.state_dict(), \"lightgcn.pth\")"
   ]
  },
  {
   "cell_type": "code",
   "execution_count": null,
   "metadata": {},
   "outputs": [
    {
     "name": "stdout",
     "output_type": "stream",
     "text": [
      "torch.Size([50, 3])\n",
      "torch.Size([1, 3])\n",
      "torch.Size([1, 3])\n"
     ]
    },
    {
     "data": {
      "text/plain": [
       "(tensor([[ 47.8852, 119.1725, 546.3154]], dtype=torch.float64),\n",
       " tensor([[0.0000, 0.0000, 0.0000, 1.0187, 0.0000, 0.0000, 0.0000, 0.0000, 0.0000,\n",
       "          0.0000, 0.0000, 0.0000, 0.0000, 1.7709, 0.0000, 2.2148, 0.0000, 0.0000]],\n",
       "        dtype=torch.float64))"
      ]
     },
     "execution_count": 44,
     "metadata": {},
     "output_type": "execute_result"
    }
   ],
   "source": [
    "target_user = 0\n",
    "target_item = 0\n",
    "\n",
    "def predict_target(user_feat_batch, movie_feat_batch, target_user, target_item):\n",
    "    outputs = []\n",
    "    B = user_feat_batch.shape[0]\n",
    "    for i in range(B):\n",
    "        # 取出第 i 个样本的特征，形状为 [user_feat_dim] 和 [item_feat_dim]\n",
    "        cur_user_feat = user_feat_batch[i]      # [user_feat_dim]\n",
    "        cur_movie_feat = movie_feat_batch[i]    # [item_feat_dim]\n",
    "        \n",
    "        # 复制全局特征\n",
    "        user_features_modified = user_features.clone()\n",
    "        movie_features_modified = movie_features.clone()\n",
    "        \n",
    "        # 替换目标用户和电影的特征\n",
    "        user_features_modified[target_user] = cur_user_feat\n",
    "        movie_features_modified[target_item] = cur_movie_feat\n",
    "        \n",
    "        # 计算嵌入\n",
    "        user_embed, movie_embed = model(adj_matrix, user_features_modified, movie_features_modified)\n",
    "        # 计算预测评分（采用点积）\n",
    "        score = torch.sum(user_embed[target_user] * movie_embed[target_item])\n",
    "        outputs.append(score)\n",
    "    \n",
    "    # 将 list 转换为张量，形状为 [B]\n",
    "    return torch.stack(outputs)\n",
    "\n",
    "def wrapped_predict(user_feat, movie_feat, additional_forward_args=None):\n",
    "    print(user_feat.shape)\n",
    "    return predict_target(user_feat, movie_feat, target_user, target_item)\n",
    "\n",
    "target_user_feat = user_features[target_user].unsqueeze(0)\n",
    "target_movie_feat = movie_features[target_item].unsqueeze(0)\n",
    "\n",
    "baseline_user_feat = torch.zeros_like(target_user_feat)\n",
    "baseline_movie_feat = torch.zeros_like(target_movie_feat)\n",
    "\n",
    "ig = IntegratedGradients(wrapped_predict)\n",
    "attributions, delta = ig.attribute(\n",
    "    inputs =  (target_user_feat, target_movie_feat),\n",
    "    baselines = (baseline_user_feat, baseline_movie_feat),\n",
    "    return_convergence_delta=True\n",
    ")\n",
    "\n",
    "attributions"
   ]
  },
  {
   "cell_type": "code",
   "execution_count": 51,
   "metadata": {},
   "outputs": [
    {
     "data": {
      "image/png": "[encoded data removed]",
      "text/plain": [
       "<Figure size 600x400 with 1 Axes>"
      ]
     },
     "metadata": {},
     "output_type": "display_data"
    }
   ],
   "source": [
    "\n",
    "user_attr = attributions[0].detach().numpy()\n",
    "movie_attr = attributions[1].detach().numpy()\n",
    "\n",
    "user_feature_names = ['gender', 'age', 'occupation']\n",
    "\n",
    "plt.figure(figsize=(6,4))\n",
    "plt.bar(user_feature_names, user_attr[0], color='skyblue')\n",
    "plt.xlabel(\"User Feature\")\n",
    "plt.ylabel(\"Attribution Value\")\n",
    "plt.title(\"Attribution of User Features\")\n",
    "plt.grid(axis=\"y\", linestyle=\"--\", alpha=0.7)\n",
    "plt.show()"
   ]
  },
  {
   "cell_type": "code",
   "execution_count": 52,
   "metadata": {},
   "outputs": [
    {
     "data": {
      "image/png": "[encoded data removed]",
      "text/plain": [
       "<Figure size 600x400 with 1 Axes>"
      ]
     },
     "metadata": {},
     "output_type": "display_data"
    }
   ],
   "source": [
    "index_to_genre = {v: k for k, v in genre_mapping.items()}\n",
    "# 构造电影特征名称列表（注意：movie_features 的每一列对应一个流派）\n",
    "num_movie_features = movie_attr.shape[1]\n",
    "movie_feature_names = [index_to_genre[i] for i in range(num_movie_features)]\n",
    "\n",
    "# 取归因值的绝对值，以衡量每个特征的重要性\n",
    "abs_movie_attr = np.abs(movie_attr[0])\n",
    "# 选择归因值最大的三个索引（降序排列）\n",
    "top3_idx = np.argsort(abs_movie_attr)[-3:][::-1]\n",
    "top3_values = movie_attr[0][top3_idx]\n",
    "top3_labels = [movie_feature_names[i] for i in top3_idx]\n",
    "\n",
    "plt.figure(figsize=(6,4))\n",
    "plt.bar(top3_labels, top3_values, color='salmon')\n",
    "plt.xlabel(\"Movie Genre Feature\")\n",
    "plt.ylabel(\"Attribution Value\")\n",
    "plt.title(\"Top 3 Important Movie Genre Features\")\n",
    "plt.grid(axis=\"y\", linestyle=\"--\", alpha=0.7)\n",
    "plt.show()"
   ]
  },
  {
   "cell_type": "code",
   "execution_count": 55,
   "metadata": {},
   "outputs": [
    {
     "data": {
      "text/html": [
       "<div>\n",
       "<style scoped>\n",
       "    .dataframe tbody tr th:only-of-type {\n",
       "        vertical-align: middle;\n",
       "    }\n",
       "\n",
       "    .dataframe tbody tr th {\n",
       "        vertical-align: top;\n",
       "    }\n",
       "\n",
       "    .dataframe thead th {\n",
       "        text-align: right;\n",
       "    }\n",
       "</style>\n",
       "<table border=\"1\" class=\"dataframe\">\n",
       "  <thead>\n",
       "    <tr style=\"text-align: right;\">\n",
       "      <th></th>\n",
       "      <th>user</th>\n",
       "      <th>gender</th>\n",
       "      <th>age</th>\n",
       "      <th>occupation</th>\n",
       "      <th>zip</th>\n",
       "    </tr>\n",
       "  </thead>\n",
       "  <tbody>\n",
       "    <tr>\n",
       "      <th>0</th>\n",
       "      <td>0</td>\n",
       "      <td>1</td>\n",
       "      <td>1</td>\n",
       "      <td>10</td>\n",
       "      <td>48067</td>\n",
       "    </tr>\n",
       "    <tr>\n",
       "      <th>1</th>\n",
       "      <td>1</td>\n",
       "      <td>0</td>\n",
       "      <td>56</td>\n",
       "      <td>16</td>\n",
       "      <td>70072</td>\n",
       "    </tr>\n",
       "    <tr>\n",
       "      <th>2</th>\n",
       "      <td>2</td>\n",
       "      <td>0</td>\n",
       "      <td>25</td>\n",
       "      <td>15</td>\n",
       "      <td>55117</td>\n",
       "    </tr>\n",
       "    <tr>\n",
       "      <th>3</th>\n",
       "      <td>3</td>\n",
       "      <td>0</td>\n",
       "      <td>45</td>\n",
       "      <td>7</td>\n",
       "      <td>02460</td>\n",
       "    </tr>\n",
       "    <tr>\n",
       "      <th>4</th>\n",
       "      <td>4</td>\n",
       "      <td>0</td>\n",
       "      <td>25</td>\n",
       "      <td>20</td>\n",
       "      <td>55455</td>\n",
       "    </tr>\n",
       "    <tr>\n",
       "      <th>...</th>\n",
       "      <td>...</td>\n",
       "      <td>...</td>\n",
       "      <td>...</td>\n",
       "      <td>...</td>\n",
       "      <td>...</td>\n",
       "    </tr>\n",
       "    <tr>\n",
       "      <th>6035</th>\n",
       "      <td>6035</td>\n",
       "      <td>1</td>\n",
       "      <td>25</td>\n",
       "      <td>15</td>\n",
       "      <td>32603</td>\n",
       "    </tr>\n",
       "    <tr>\n",
       "      <th>6036</th>\n",
       "      <td>6036</td>\n",
       "      <td>1</td>\n",
       "      <td>45</td>\n",
       "      <td>1</td>\n",
       "      <td>76006</td>\n",
       "    </tr>\n",
       "    <tr>\n",
       "      <th>6037</th>\n",
       "      <td>6037</td>\n",
       "      <td>1</td>\n",
       "      <td>56</td>\n",
       "      <td>1</td>\n",
       "      <td>14706</td>\n",
       "    </tr>\n",
       "    <tr>\n",
       "      <th>6038</th>\n",
       "      <td>6038</td>\n",
       "      <td>1</td>\n",
       "      <td>45</td>\n",
       "      <td>0</td>\n",
       "      <td>01060</td>\n",
       "    </tr>\n",
       "    <tr>\n",
       "      <th>6039</th>\n",
       "      <td>6039</td>\n",
       "      <td>0</td>\n",
       "      <td>25</td>\n",
       "      <td>6</td>\n",
       "      <td>11106</td>\n",
       "    </tr>\n",
       "  </tbody>\n",
       "</table>\n",
       "<p>6040 rows × 5 columns</p>\n",
       "</div>"
      ],
      "text/plain": [
       "      user  gender  age  occupation    zip\n",
       "0        0       1    1          10  48067\n",
       "1        1       0   56          16  70072\n",
       "2        2       0   25          15  55117\n",
       "3        3       0   45           7  02460\n",
       "4        4       0   25          20  55455\n",
       "...    ...     ...  ...         ...    ...\n",
       "6035  6035       1   25          15  32603\n",
       "6036  6036       1   45           1  76006\n",
       "6037  6037       1   56           1  14706\n",
       "6038  6038       1   45           0  01060\n",
       "6039  6039       0   25           6  11106\n",
       "\n",
       "[6040 rows x 5 columns]"
      ]
     },
     "execution_count": 55,
     "metadata": {},
     "output_type": "execute_result"
    }
   ],
   "source": [
    "users"
   ]
  }
 ],
 "metadata": {
  "kernelspec": {
   "display_name": "rec_env",
   "language": "python",
   "name": "python3"
  },
  "language_info": {
   "codemirror_mode": {
    "name": "ipython",
    "version": 3
   },
   "file_extension": ".py",
   "mimetype": "text/x-python",
   "name": "python",
   "nbconvert_exporter": "python",
   "pygments_lexer": "ipython3",
   "version": "3.10.16"
  }
 },
 "nbformat": 4,
 "nbformat_minor": 2
}
