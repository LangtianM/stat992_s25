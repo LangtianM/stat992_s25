{
 "cells": [
  {
   "cell_type": "code",
   "execution_count": 6,
   "metadata": {},
   "outputs": [],
   "source": [
    "import math\n",
    "import torch\n",
    "import numpy as np\n",
    "import pandas as pd\n",
    "import scipy.sparse as sp\n",
    "import torch.nn as nn\n",
    "import torch.optim as optim\n",
    "from torch.utils.data import DataLoader, Dataset\n",
    "import matplotlib.pyplot as plt\n",
    "from IG_Interpreter import Interpreter\n",
    "from LightGCN import LightGCN\n",
    "from RecommenderTrainer import RecommenderTrainer\n",
    "from DataProcessor import DataProcessor\n",
    "import d2l.torch as d2l"
   ]
  },
  {
   "cell_type": "code",
   "execution_count": null,
   "metadata": {},
   "outputs": [
    {
     "name": "stderr",
     "output_type": "stream",
     "text": [
      "/Users/malangtian/Documents/StudyMaterials/Courses/stat992_s25/hw2/DataProcessor.py:145: RuntimeWarning: divide by zero encountered in power\n",
      "  d_inv_sqrt = np.power(rowsum, -0.5).flatten()\n"
     ]
    },
    {
     "data": {
      "text/plain": [
       "<DataProcessor.DataProcessor at 0x309046b30>"
      ]
     },
     "execution_count": 8,
     "metadata": {},
     "output_type": "execute_result"
    }
   ],
   "source": [
    "data_path = \"../hw1/ml-1m/ratings.dat\"\n",
    "movies_path = \"../hw1/ml-1m/movies.dat\"\n",
    "users_path = \"../hw1/ml-1m/users.dat\"\n",
    "\n",
    "# Load and preprocess data\n",
    "processor = DataProcessor(data_path, movies_path, users_path)\n",
    "processor.load_data()"
   ]
  },
  {
   "cell_type": "code",
   "execution_count": null,
   "metadata": {},
   "outputs": [
    {
     "name": "stdout",
     "output_type": "stream",
     "text": [
      "Epoch 1/5, Loss: -6746522.5000\n"
     ]
    }
   ],
   "source": [
    "EMBEDDING_DIM = 64\n",
    "NUM_LAYERS = 3\n",
    "LEARNING_RATE = 0.01\n",
    "\n",
    "# Define and train LightGCN model\n",
    "model = LightGCN(\n",
    "    num_users=processor.num_users,\n",
    "    num_items=processor.num_items,\n",
    "    embedding_dim=EMBEDDING_DIM,\n",
    "    n_layers=NUM_LAYERS,\n",
    "    user_feat_dim=processor.user_features.shape[1],\n",
    "    item_feat_dim=processor.item_features.shape[1]\n",
    ")\n",
    "\n",
    "trainer = RecommenderTrainer(model, \n",
    "                             processor, \n",
    "                             learning_rate=LEARNING_RATE)\n",
    "trainer.train()\n"
   ]
  },
  {
   "cell_type": "code",
   "execution_count": null,
   "metadata": {},
   "outputs": [],
   "source": [
    "interpreter = Interpreter(trainer, processor)\n",
    "print(\"Top recommendations for user 0:\")\n",
    "top_movies = interpreter.find_top_recommendations(user_index=0, k=5)"
   ]
  }
 ],
 "metadata": {
  "kernelspec": {
   "display_name": "rec_env",
   "language": "python",
   "name": "python3"
  },
  "language_info": {
   "codemirror_mode": {
    "name": "ipython",
    "version": 3
   },
   "file_extension": ".py",
   "mimetype": "text/x-python",
   "name": "python",
   "nbconvert_exporter": "python",
   "pygments_lexer": "ipython3",
   "version": "3.10.16"
  }
 },
 "nbformat": 4,
 "nbformat_minor": 2
}
