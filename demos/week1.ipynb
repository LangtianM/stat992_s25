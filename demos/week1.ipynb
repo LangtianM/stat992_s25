{
 "cells": [
  {
   "cell_type": "markdown",
   "metadata": {
    "vscode": {
     "languageId": "plaintext"
    }
   },
   "source": [
    "### Package Management"
   ]
  },
  {
   "cell_type": "markdown",
   "metadata": {},
   "source": [
    "We'll be working through a few code demos over the semester. Many useful interpretability libraries are written in python, so we'll need to get familiar with installing packages and running notebooks in this language. Unlike R, python package management tries to maintain backward compatability (older versions of packages are supposed to be supported). This creates a bit more complexity in installation, though, because different projects might need different versions of the same package. Trying to keep them all in the same python installation can lead to package requirement conflicts. For this reason, it's common to use \"environments\" to separate different installations, each which has its own set of packages installed.\n",
    "\n",
    "We'll be using `conda` to manage packages. You can install `conda` using the `Quick command line install` steps at [this link](https://docs.anaconda.com/miniconda/install/#quick-command-line-install). Once you run this, you should see `(base)` appear at the start of your terminal prompts. This means that you are in the \"base\" conda environment, which people usually leave clear of any extra python packages."
   ]
  },
  {
   "cell_type": "markdown",
   "metadata": {},
   "source": [
    "### Installing `captum`"
   ]
  },
  {
   "cell_type": "markdown",
   "metadata": {},
   "source": [
    "Next week, we'll work through some examples using the [`captum` library](https://captum.ai/). Let's create a new conda environment with this library installed. The first step is to create the new conda environment. We'll create one called `stat992_week2` by entering this into the terminal."
   ]
  },
  {
   "cell_type": "code",
   "execution_count": null,
   "metadata": {
    "vscode": {
     "languageId": "shellscript"
    }
   },
   "outputs": [],
   "source": [
    "conda create -y -n stat992_week2 python=3.12"
   ]
  },
  {
   "cell_type": "markdown",
   "metadata": {},
   "source": [
    "We can next enter this environment using:"
   ]
  },
  {
   "cell_type": "code",
   "execution_count": null,
   "metadata": {
    "vscode": {
     "languageId": "shellscript"
    }
   },
   "outputs": [],
   "source": [
    "conda activate stat992_week2"
   ]
  },
  {
   "cell_type": "markdown",
   "metadata": {},
   "source": [
    "You should see the start of your terminal prompt change to `(stat992_week2)`. Any python packages we install now will only appear when we are in this environment. Let's ahead and install `captum`."
   ]
  },
  {
   "cell_type": "code",
   "execution_count": null,
   "metadata": {
    "vscode": {
     "languageId": "shellscript"
    }
   },
   "outputs": [],
   "source": [
    "conda install -y -c pytorch captum"
   ]
  },
  {
   "cell_type": "markdown",
   "metadata": {},
   "source": [
    "At this point, you should be able to `import captum` from a python shell. In fact, we can open a notebook, specify that we want to use the `stat992_week2` environment, and then import it like this. Note that this block is a python block, not something to enter into the terminal."
   ]
  },
  {
   "cell_type": "code",
   "execution_count": 1,
   "metadata": {},
   "outputs": [],
   "source": [
    "import captum"
   ]
  },
  {
   "cell_type": "markdown",
   "metadata": {},
   "source": [
    "Different code editors have different ways of specifying the conda environment. In VSCode, you can select the conda environment using the \"Select Kernel\" button at the top right hand corner."
   ]
  },
  {
   "cell_type": "markdown",
   "metadata": {},
   "source": [
    "### .yml -> to Conda Environment"
   ]
  },
  {
   "cell_type": "markdown",
   "metadata": {},
   "source": [
    "If we have many packages to install, then running all the `conda install` steps can get very tedious. In this case, I will share a `.yml` file that specifies all the necessary libraries. From this file, you can create an environment with all packages installed from the outset. For example, the steps above can be completed in a single line using:"
   ]
  },
  {
   "cell_type": "code",
   "execution_count": null,
   "metadata": {
    "vscode": {
     "languageId": "shellscript"
    }
   },
   "outputs": [],
   "source": [
    "conda env create -f https://github.com/krisrs1128/stat992_s25/raw/refs/heads/main/demos/stat992_week2.yml"
   ]
  },
  {
   "cell_type": "markdown",
   "metadata": {},
   "source": [
    "In the future, if you ever want to remove a conda environment, you can use the `conda env remove` command. For example, to remove the environment we just installed, we can use:"
   ]
  },
  {
   "cell_type": "code",
   "execution_count": null,
   "metadata": {
    "vscode": {
     "languageId": "shellscript"
    }
   },
   "outputs": [],
   "source": [
    "conda deactivate # exit the environment\n",
    "conda env remove -y --name stat992_week2"
   ]
  }
 ],
 "metadata": {
  "kernelspec": {
   "display_name": "stat992_week2",
   "language": "python",
   "name": "python3"
  },
  "language_info": {
   "codemirror_mode": {
    "name": "ipython",
    "version": 3
   },
   "file_extension": ".py",
   "mimetype": "text/x-python",
   "name": "python",
   "nbconvert_exporter": "python",
   "pygments_lexer": "ipython3",
   "version": "3.12.8"
  }
 },
 "nbformat": 4,
 "nbformat_minor": 2
}
